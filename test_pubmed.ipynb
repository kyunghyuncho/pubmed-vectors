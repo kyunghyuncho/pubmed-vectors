{
 "cells": [
  {
   "cell_type": "code",
   "execution_count": 1,
   "metadata": {},
   "outputs": [],
   "source": [
    "from abstract_retriever import AbstractRetriever"
   ]
  },
  {
   "cell_type": "code",
   "execution_count": 2,
   "metadata": {},
   "outputs": [],
   "source": [
    "db_file = \"/teamspace/studios/this_studio/data/pubmed_abstracts_2024.db\"\n",
    "vector_file = \"/teamspace/studios/this_studio/data/pubmed_abstracts_2024_emb_nomic.dat\"\n",
    "pmid_file = \"/teamspace/studios/this_studio/data/pubmed_abstracts_2024_pmids.dat\""
   ]
  },
  {
   "cell_type": "code",
   "execution_count": 3,
   "metadata": {},
   "outputs": [
    {
     "name": "stderr",
     "output_type": "stream",
     "text": [
      "/home/zeus/miniconda3/envs/cloudspace/lib/python3.10/site-packages/huggingface_hub/file_download.py:1132: FutureWarning: `resume_download` is deprecated and will be removed in version 1.0.0. Downloads always resume when possible. If you want to force a new download, use `force_download=True`.\n",
      "  warnings.warn(\n",
      "<All keys matched successfully>\n"
     ]
    },
    {
     "ename": "OperationalError",
     "evalue": "disk I/O error",
     "output_type": "error",
     "traceback": [
      "\u001b[0;31m---------------------------------------------------------------------------\u001b[0m",
      "\u001b[0;31mOperationalError\u001b[0m                          Traceback (most recent call last)",
      "Cell \u001b[0;32mIn[3], line 1\u001b[0m\n\u001b[0;32m----> 1\u001b[0m retriever \u001b[38;5;241m=\u001b[39m \u001b[43mAbstractRetriever\u001b[49m\u001b[43m(\u001b[49m\u001b[43mvector_file\u001b[49m\u001b[43m,\u001b[49m\u001b[43m \u001b[49m\u001b[43mpmid_file\u001b[49m\u001b[43m,\u001b[49m\u001b[43m \u001b[49m\u001b[43mdb_file\u001b[49m\u001b[43m,\u001b[49m\u001b[43m \u001b[49m\u001b[43mchunk_size\u001b[49m\u001b[38;5;241;43m=\u001b[39;49m\u001b[38;5;241;43m500_000\u001b[39;49m\u001b[43m,\u001b[49m\u001b[43m \u001b[49m\u001b[43muse_cuda\u001b[49m\u001b[38;5;241;43m=\u001b[39;49m\u001b[38;5;28;43;01mTrue\u001b[39;49;00m\u001b[43m)\u001b[49m\n",
      "File \u001b[0;32m~/pubmed-vectors/abstract_retriever.py:42\u001b[0m, in \u001b[0;36mAbstractRetriever.__init__\u001b[0;34m(self, vectors_file, ids_file, db_file, model_name, chunk_size, use_cosine, use_cuda)\u001b[0m\n\u001b[1;32m     39\u001b[0m \u001b[38;5;28mself\u001b[39m\u001b[38;5;241m.\u001b[39mdoc_vectors_memmap \u001b[38;5;241m=\u001b[39m np\u001b[38;5;241m.\u001b[39mmemmap(vectors_file, dtype\u001b[38;5;241m=\u001b[39m\u001b[38;5;28mself\u001b[39m\u001b[38;5;241m.\u001b[39mdtype_vectors, mode\u001b[38;5;241m=\u001b[39m\u001b[38;5;124m'\u001b[39m\u001b[38;5;124mr\u001b[39m\u001b[38;5;124m'\u001b[39m, shape\u001b[38;5;241m=\u001b[39m(\u001b[38;5;28mself\u001b[39m\u001b[38;5;241m.\u001b[39mnum_rows, \u001b[38;5;28mself\u001b[39m\u001b[38;5;241m.\u001b[39mdimension))\n\u001b[1;32m     40\u001b[0m \u001b[38;5;28mself\u001b[39m\u001b[38;5;241m.\u001b[39mdoc_ids_memmap \u001b[38;5;241m=\u001b[39m np\u001b[38;5;241m.\u001b[39mmemmap(ids_file, dtype\u001b[38;5;241m=\u001b[39m\u001b[38;5;28mself\u001b[39m\u001b[38;5;241m.\u001b[39mdtype_ids, mode\u001b[38;5;241m=\u001b[39m\u001b[38;5;124m'\u001b[39m\u001b[38;5;124mr\u001b[39m\u001b[38;5;124m'\u001b[39m, shape\u001b[38;5;241m=\u001b[39m(\u001b[38;5;28mself\u001b[39m\u001b[38;5;241m.\u001b[39mnum_rows,))\n\u001b[0;32m---> 42\u001b[0m \u001b[38;5;28mself\u001b[39m\u001b[38;5;241m.\u001b[39mconnection \u001b[38;5;241m=\u001b[39m \u001b[38;5;28;43mself\u001b[39;49m\u001b[38;5;241;43m.\u001b[39;49m\u001b[43m_connect_db\u001b[49m\u001b[43m(\u001b[49m\u001b[43m)\u001b[49m\n\u001b[1;32m     44\u001b[0m \u001b[38;5;28;01mif\u001b[39;00m \u001b[38;5;28mself\u001b[39m\u001b[38;5;241m.\u001b[39muse_cosine:\n\u001b[1;32m     45\u001b[0m     \u001b[38;5;66;03m# check if the norms were saved in vectors_file+\".norm.npy\"\u001b[39;00m\n\u001b[1;32m     46\u001b[0m     norms_file \u001b[38;5;241m=\u001b[39m vectors_file \u001b[38;5;241m+\u001b[39m \u001b[38;5;124m\"\u001b[39m\u001b[38;5;124m.norm.npy\u001b[39m\u001b[38;5;124m\"\u001b[39m\n",
      "File \u001b[0;32m~/pubmed-vectors/abstract_retriever.py:80\u001b[0m, in \u001b[0;36mAbstractRetriever._connect_db\u001b[0;34m(self)\u001b[0m\n\u001b[1;32m     79\u001b[0m \u001b[38;5;28;01mdef\u001b[39;00m \u001b[38;5;21m_connect_db\u001b[39m(\u001b[38;5;28mself\u001b[39m):\n\u001b[0;32m---> 80\u001b[0m     connection \u001b[38;5;241m=\u001b[39m \u001b[43msqlite3\u001b[49m\u001b[38;5;241;43m.\u001b[39;49m\u001b[43mconnect\u001b[49m\u001b[43m(\u001b[49m\u001b[38;5;28;43mself\u001b[39;49m\u001b[38;5;241;43m.\u001b[39;49m\u001b[43mdb_file\u001b[49m\u001b[43m)\u001b[49m\n\u001b[1;32m     81\u001b[0m     \u001b[38;5;28;01mreturn\u001b[39;00m connection\n",
      "\u001b[0;31mOperationalError\u001b[0m: disk I/O error"
     ]
    }
   ],
   "source": [
    "retriever = AbstractRetriever(vector_file, pmid_file, db_file, chunk_size=500_000, use_cuda=True)"
   ]
  },
  {
   "cell_type": "code",
   "execution_count": 4,
   "metadata": {},
   "outputs": [],
   "source": [
    "# Example query embedding (replace with an actual embedding)\n",
    "# query = input(\"Enter your query: \")\n",
    "query = \"What is the role of GLP-1 and GLP-1 agonists in losing excess weight?\"\n",
    "query_embedding = retriever.embed_query(query)"
   ]
  },
  {
   "cell_type": "code",
   "execution_count": 5,
   "metadata": {},
   "outputs": [
    {
     "name": "stderr",
     "output_type": "stream",
     "text": [
      " 41%|████      | 30/74 [04:18<06:19,  8.63s/it]\n"
     ]
    },
    {
     "ename": "KeyboardInterrupt",
     "evalue": "",
     "output_type": "error",
     "traceback": [
      "\u001b[0;31m---------------------------------------------------------------------------\u001b[0m",
      "\u001b[0;31mKeyboardInterrupt\u001b[0m                         Traceback (most recent call last)",
      "Cell \u001b[0;32mIn[5], line 2\u001b[0m\n\u001b[1;32m      1\u001b[0m top_k \u001b[38;5;241m=\u001b[39m \u001b[38;5;241m5\u001b[39m\n\u001b[0;32m----> 2\u001b[0m pmids, distances, documents \u001b[38;5;241m=\u001b[39m \u001b[43mretriever\u001b[49m\u001b[38;5;241;43m.\u001b[39;49m\u001b[43msearch\u001b[49m\u001b[43m(\u001b[49m\u001b[43mquery\u001b[49m\u001b[43m,\u001b[49m\u001b[43m \u001b[49m\u001b[43mtop_k\u001b[49m\u001b[43m)\u001b[49m\n",
      "File \u001b[0;32m~/pubmed-vectors/abstract_retriever.py:119\u001b[0m, in \u001b[0;36mAbstractRetriever.search\u001b[0;34m(self, query, top_k)\u001b[0m\n\u001b[1;32m    116\u001b[0m chunk \u001b[38;5;241m=\u001b[39m \u001b[38;5;28mself\u001b[39m\u001b[38;5;241m.\u001b[39mdoc_vectors_memmap[i:end]\n\u001b[1;32m    118\u001b[0m \u001b[38;5;66;03m# use cosine similarity to compute distances.\u001b[39;00m\n\u001b[0;32m--> 119\u001b[0m chunk_distances \u001b[38;5;241m=\u001b[39m (\u001b[43mchunk\u001b[49m\u001b[43m \u001b[49m\u001b[38;5;241;43m*\u001b[39;49m\u001b[43m \u001b[49m\u001b[43mquery_vector\u001b[49m\u001b[43m[\u001b[49m\u001b[38;5;28;43;01mNone\u001b[39;49;00m\u001b[43m,\u001b[49m\u001b[43m \u001b[49m\u001b[43m:\u001b[49m\u001b[43m]\u001b[49m)\u001b[38;5;241m.\u001b[39msum(axis\u001b[38;5;241m=\u001b[39m\u001b[38;5;241m1\u001b[39m)\n\u001b[1;32m    120\u001b[0m \u001b[38;5;28;01mif\u001b[39;00m \u001b[38;5;28mself\u001b[39m\u001b[38;5;241m.\u001b[39muse_cosine:\n\u001b[1;32m    121\u001b[0m     norms \u001b[38;5;241m=\u001b[39m \u001b[38;5;28mself\u001b[39m\u001b[38;5;241m.\u001b[39mnorms[i:end]\n",
      "File \u001b[0;32m/home/zeus/miniconda3/envs/cloudspace/lib/python3.10/site-packages/numpy/core/memmap.py:319\u001b[0m, in \u001b[0;36mmemmap.__array_wrap__\u001b[0;34m(self, arr, context)\u001b[0m\n\u001b[1;32m    316\u001b[0m     \u001b[38;5;28;01mif\u001b[39;00m \u001b[38;5;28mself\u001b[39m\u001b[38;5;241m.\u001b[39mbase \u001b[38;5;129;01mis\u001b[39;00m \u001b[38;5;129;01mnot\u001b[39;00m \u001b[38;5;28;01mNone\u001b[39;00m \u001b[38;5;129;01mand\u001b[39;00m \u001b[38;5;28mhasattr\u001b[39m(\u001b[38;5;28mself\u001b[39m\u001b[38;5;241m.\u001b[39mbase, \u001b[38;5;124m'\u001b[39m\u001b[38;5;124mflush\u001b[39m\u001b[38;5;124m'\u001b[39m):\n\u001b[1;32m    317\u001b[0m         \u001b[38;5;28mself\u001b[39m\u001b[38;5;241m.\u001b[39mbase\u001b[38;5;241m.\u001b[39mflush()\n\u001b[0;32m--> 319\u001b[0m \u001b[38;5;28;01mdef\u001b[39;00m \u001b[38;5;21m__array_wrap__\u001b[39m(\u001b[38;5;28mself\u001b[39m, arr, context\u001b[38;5;241m=\u001b[39m\u001b[38;5;28;01mNone\u001b[39;00m):\n\u001b[1;32m    320\u001b[0m     arr \u001b[38;5;241m=\u001b[39m \u001b[38;5;28msuper\u001b[39m()\u001b[38;5;241m.\u001b[39m__array_wrap__(arr, context)\n\u001b[1;32m    322\u001b[0m     \u001b[38;5;66;03m# Return a memmap if a memmap was given as the output of the\u001b[39;00m\n\u001b[1;32m    323\u001b[0m     \u001b[38;5;66;03m# ufunc. Leave the arr class unchanged if self is not a memmap\u001b[39;00m\n\u001b[1;32m    324\u001b[0m     \u001b[38;5;66;03m# to keep original memmap subclasses behavior\u001b[39;00m\n",
      "\u001b[0;31mKeyboardInterrupt\u001b[0m: "
     ]
    }
   ],
   "source": [
    "top_k = 5\n",
    "pmids, distances, documents = retriever.search(query, top_k)"
   ]
  },
  {
   "cell_type": "code",
   "execution_count": 12,
   "metadata": {},
   "outputs": [
    {
     "name": "stdout",
     "output_type": "stream",
     "text": [
      "Rank 1, Similarity: 269.29779052734375\n",
      "PMID: 27110484\n",
      "Title: High density lipoprotein and metabolic disease: Potential benefits of restoring its functional properties.\n",
      "Authors: Teja Klancic, Lavinia Woodward, Susanna M Hofmann, Edward A Fisher\n",
      "Abstract: High density lipoproteins (HDLs) are thought to be atheroprotective and to reduce the risk of cardiovascular disease (CVD). Besides their antioxidant, antithrombotic, anti-inflammatory, anti-apoptotic properties in the vasculature, HDLs also improve glucose metabolism in skeletal muscle.\n",
      "Publication Year: 2016\n",
      "-----\n",
      "Rank 2, Similarity: 263.25506591796875\n",
      "PMID: 26077492\n",
      "Title: Design, synthesis and evaluation of MCH receptor 1 antagonists--Part II: Optimization of pyridazines toward reduced phospholipidosis and hERG inhibition.\n",
      "Authors: Gerald J Roth, Armin Heckel, Jörg T Kley, Thorsten Lehmann, Stephan G Müller, Thorsten Oost, Klaus Rudolf, Kirsten Arndt, Ralph Budzinski, Martin Lenter, Ralf R H Lotz, Marcus Schindler, Leo Thomas, Dirk Stenkamp\n",
      "Abstract: Despite recent success there remains a high therapeutic need for the development of drugs targeting diseases associated with the metabolic syndrome. As part of our search for safe and effective MCH-R1 antagonists for the treatment of obesity, a series of 3,6-disubstituted pyridazines was evaluated. During optimization several issues of the initial lead structures had to be resolved, such as selectivity over related GPCRs, inhibition of the hERG channel as well as the potential to induce phospholipidosis. Utilizing property-based design, we could demonstrate that all parameters can significantly be improved by consequently increasing the polarity of the compounds. By this strategy, we succeeded in identifying potent and orally available MCH-R1 antagonists with good selectivity over M1 and 5-HT2A and an improved safety profile with respect to hERG inhibition and phospholipidosis. \n",
      "Publication Year: 2015\n",
      "-----\n",
      "Rank 3, Similarity: 263.02178955078125\n",
      "PMID: 27110486\n",
      "Title: Thioesterase superfamily member 1 suppresses cold thermogenesis by limiting the oxidation of lipid droplet-derived fatty acids in brown adipose tissue.\n",
      "Authors: Kosuke Okada, Katherine B LeClair, Yongzhao Zhang, Yingxia Li, Cafer Ozdemir, Tibor I Krisko, Susan J Hagen, Rebecca A Betensky, Alexander S Banks, David E Cohen\n",
      "Abstract: Non-shivering thermogenesis in brown adipose tissue (BAT) plays a central role in energy homeostasis. Thioesterase superfamily member 1 (Them1), a BAT-enriched long chain fatty acyl-CoA thioesterase, is upregulated by cold and downregulated by warm ambient temperatures. Them1 (-/-) mice exhibit increased energy expenditure and resistance to diet-induced obesity and diabetes, but the mechanistic contribution of Them1 to the regulation of cold thermogenesis remains unknown.\n",
      "Publication Year: 2016\n",
      "-----\n",
      "Rank 4, Similarity: 261.3780822753906\n",
      "PMID: 19552619\n",
      "Title: Evaluation of the potential for steady-state pharmacokinetic and pharmacodynamic interactions between the DPP-4 inhibitor linagliptin and metformin in healthy subjects.\n",
      "Authors: E U Graefe-Mody, S Padula, A Ring, B Withopf, K A Dugi\n",
      "Abstract: Linagliptin (BI 1356) is a novel, orally available inhibitor of dipeptidyl peptidase-4 (DPP-4). Linagliptin improves glycaemic control in type 2 diabetic patients by increasing the half-life of the incretin hormone glucagon-like peptide-1 (GLP-1). Linagliptin is expected to be used as monotherapy or in combination with other antihyperglycaemic agents. This study was conducted to investigate potential pharmacokinetic or pharmacodynamic interactions between linagliptin and metformin.\n",
      "Publication Year: 2009\n",
      "-----\n",
      "Rank 5, Similarity: 260.0078430175781\n",
      "PMID: 9041378\n",
      "Title: Post-prandial metabolism of triglyceride-rich lipoproteins in non-insulin-dependent diabetic patients before and after bezafibrate treatment.\n",
      "Authors: N Attia, V Durlach, D Roche, J L Paul, T Soni, A Zahouani, F Landron, F Labrousse, M Leutenegger, A Girard-Globa\n",
      "Abstract: Retarded post-prandial (pp) lipid clearance is potentially a major component of the increased cardiovascular risk incurred by hypertriglyceridaemic non-insulin-dependent diabetic mellitus (NIDDM) patients. The effect of bezafibrate (Bz, 400 mg per day for 5 weeks on chylomicron (CM) and remnant clearance after loads of 100 g of fat and vitamin A was therefore explored in 10 male patients (glycaemia 11.9 +/- 3.3 TG 4.5 +/- 2.4 mmol L(-1)). In all subjects CM-TG and retinyl palmitate (RP) were reduced by 50%, but 8-h non-CM (remnant) RP decreased only in initially mildly hypertriglyceridaemic subjects (-35%, P < 0.05), while in three patients with very elevated initial TG (epsilon3/3, epsilon3/2 and epsilon2/2 genotypes) 8-h remnant RP increased by 100%. The decrease in pp CM-TG correlated with that of fasting Sf 20-400 (r = 0.686, P = 0.026), suggesting that improved lipolysis was a major determinant of hypolipidaemic effect. Apo CIII synthesis is known to be depressed by Bz: concentrations were lower under Bz (P < 0.05). A positive correlation (r = 0.880, P < 0.001) with fasting TG before treatment and its disappearance after treatment suggested an involvement of high concentrations with hypertriglyceridaemia. Post-prandial non-esterified fatty acids were decreased by 35 in correlation with a significant (-19%, P < 0.05) improvement in fasting glycaemia (r = 0.801, P < 0.005). These results suggest that Bz acts both on lipolysis and on removal of CM remnants, but that removal can become saturated when lipolysis is massively improved.\n",
      "Publication Year: 1997\n",
      "-----\n"
     ]
    }
   ],
   "source": [
    "# sort documents according to distances (descending)\n",
    "distances, documents = zip(*sorted(zip(distances, documents), key=lambda x: x[0], reverse=True))\n",
    "\n",
    "for i, (abstract, similarity) in enumerate(zip(documents, distances)):\n",
    "    print(f\"Rank {i + 1}, Similarity: {similarity}\")\n",
    "    print(f\"PMID: {abstract['pmid']}\")\n",
    "    print(f\"Title: {abstract['title']}\")\n",
    "    print(f\"Authors: {abstract['authors']}\")\n",
    "    print(f\"Abstract: {abstract['abstract']}\")\n",
    "    print(f\"Publication Year: {abstract['publication_year']}\")\n",
    "    print(\"-----\")"
   ]
  },
  {
   "cell_type": "code",
   "execution_count": null,
   "metadata": {},
   "outputs": [],
   "source": []
  }
 ],
 "metadata": {
  "kernelspec": {
   "display_name": "base",
   "language": "python",
   "name": "python3"
  },
  "language_info": {
   "codemirror_mode": {
    "name": "ipython",
    "version": 3
   },
   "file_extension": ".py",
   "mimetype": "text/x-python",
   "name": "python",
   "nbconvert_exporter": "python",
   "pygments_lexer": "ipython3",
   "version": "3.11.9"
  }
 },
 "nbformat": 4,
 "nbformat_minor": 2
}
