{
 "cells": [
  {
   "cell_type": "code",
   "execution_count": 1,
   "metadata": {},
   "outputs": [],
   "source": [
    "from abstract_retriever import AbstractRetriever"
   ]
  },
  {
   "cell_type": "code",
   "execution_count": 2,
   "metadata": {},
   "outputs": [],
   "source": [
    "db_file = \"pubmed_data_sample.db\"\n",
    "vector_file = \"embedded_vectors.npy\"\n",
    "pmid_file = \"pmids.npy\""
   ]
  },
  {
   "cell_type": "code",
   "execution_count": 3,
   "metadata": {},
   "outputs": [],
   "source": [
    "retriever = AbstractRetriever(db_file, vector_file, pmid_file)"
   ]
  },
  {
   "cell_type": "code",
   "execution_count": 4,
   "metadata": {},
   "outputs": [],
   "source": [
    "# Example query embedding (replace with an actual embedding)\n",
    "query = input(\"Enter your query: \")\n",
    "# query_embedding = AbstractRetriever.embed_query(query)"
   ]
  },
  {
   "cell_type": "code",
   "execution_count": 5,
   "metadata": {},
   "outputs": [
    {
     "name": "stdout",
     "output_type": "stream",
     "text": [
      "Rank 1, Similarity: 0.6369152154093777\n",
      "PMID: 30984\n",
      "Title: Specific immune recognition by lymphocytes: an evolutionary perspective.\n",
      "Authors: G W Warr, J J Marchalonis\n",
      "Abstract: In this review, we analyze data pertinent to the origins of specific immune recognition by lymphocytes. The phenomena of immunity in invertebrates and the cells that might be involved in these processes are considered. We conclude that the existence of vertebrate-type immunocompetent lymphocytes in invertebrates is not yet proven. All vertebrates apparently possess immunologically competent lymphocytes, and the following conclusions may be drawn: (1) Specific antigen recognition by lymphocytes of all vertebrates appears to be mediated by membrane-bound immunoglobulins. These immunoglobulins are, in all probability, distinct from secreted, serum immunoglobulins (antibodies), although serum and surface immunoglobulins share combining sites for antigen which are formed of variable regions. (2) There is evidence for similar functional divisions among the immune systems of all vertebrates, as reflected in the results of anatomical, functional, and physicochemical investigations of lymphocytes from animals as diverse as fish and mammals.\n",
      "Publication Year: 1978\n",
      "-----\n",
      "Rank 2, Similarity: 0.5784755438954606\n",
      "PMID: 31018\n",
      "Title: 3beta-Hydroxysteroid dehydrogenase activity in human fetal membranes.\n",
      "Authors: W Gibb, J C Lavoie, J F Roux\n",
      "Abstract: A 3beta-hydroxysteroid dehydrogenase (3betaHSD) was demonstrated in term human fetal membranes (chorion and amnion) with both dehydroepiandrosterone (3beta-hydroxy-5-androsten-17-one) and pregnenolone (3beta-hydroxy-5-pregnen-20-one as substrates, and the subcellular distribution substrate and nucleotide specificity of the enzyme was studied. In both membranes the microsomal fraction (particles which sedimented at 105,000 g after 90 min) had the highest specific activity. The chorion was more active than the amnion but the enzyme in both tissues had similar substrate and nucleotide specificity. NAD was the preferred cofactor, and pregnenolone was a better substrate than dehydroepiandrosterone in the presence of NAD. However, with NADP as cofactor both steroids were equally good substrates. When the 3beta-hydroxysteroid dehydrogenase activity of chorion microsomes was compared with that of placental microsomes, the specific activities were found to be of the same order of magnitude, and the substrate, nucleotide specificity and steroid binding properties were almost identical.\n",
      "Publication Year: 1978\n",
      "-----\n",
      "Rank 3, Similarity: 0.5772227207876218\n",
      "PMID: 31030\n",
      "Title: [Disordered regulation of cell membrane adenyl cyclase and guanyl cyclase activity as a possible factor in carcinogenesis].\n",
      "Authors: B Hermann\n",
      "Abstract: The author suggests an interpretation of the recently recognized significant enzymatic imbalance in cancer cell as a result of the shift in the balance of cell memrane adenyl- and guanylcyclase activities in favour of the former. The alternative patterns of the development of hypothetical central and peripheral regulatory disturbances are dealt with. The prospective new therapeutic approaches offered by the pathomechanism under study are pointed out.\n",
      "Publication Year: 1978\n",
      "-----\n",
      "Rank 4, Similarity: 0.5722504253029346\n",
      "PMID: 31044\n",
      "Title: [Chemical parameters in coastal waters in correlation with microbiological parameters (author's transl)].\n",
      "Authors: F Jentsch, H Gärtner\n",
      "Abstract: Nearly 4600 samples of coastal water from the Baltic Sea were characterized by microbiological parameters as well as by pH, ammonium, nitrite, nitrate, phosphate, and oxidizability by permanganate. Correlation of E. coli with chemical parameters varies strongly according to parameter, region, and season. Sanitary assessments can only be based on microbiological findings.--As regards eutrophication, we should expect special and more comprehensive chemical test programmes to give us substantial knowledge, whereas chemical tests after the EC guidelines for bathing waters along the Baltic Sea coast would mean considerable work and costs without getting any new results.\n",
      "Publication Year: 1978\n",
      "-----\n",
      "Rank 5, Similarity: 0.5690167965855037\n",
      "PMID: 31052\n",
      "Title: beta-D-galactosidase activities in juvenile GM1-gangliosidosis.\n",
      "Authors: B Hultberg, S Sjöblad\n",
      "Abstract: beta-Galactosidase activity was investigated in one case of juvenile GM1-gangliosidosis. This patient exhibited normal activity of the neutral form of beta-galactosidase (measured as beta-glucosidase activity) and normal pH curve of residual acid beta-galactosidase activity in leucocytes and fibroblasts. A shift towards more neutral pH optimum was seen in the beta-galactosidase enzyme occurring in serum. The communication also presents a study of the relationship of the different beta-galactosidases in human liver using isolated urine oligosaccharide from this patient as a beta-galactoside substrate. The other natural beta-galactoside substrates used in this investigation were different oligosaccharides, one glycopeptide and ceramide-beta-galactosidase. The beta-galactosidase forms with acidic pH optimum towards synthetic substrate (A forms) exhibit activity towards the natural substrate (except ceramide-beta-galactoside). The \"neutral\" beta-galactosidase with broad substrate specificity (B form) which includes beta-glucosides had no activity towards the natural substrates used. It could also be shown that the activity towards ceramide-beta-galactoside was a third type of beta-galactosidase different from A and B forms.\n",
      "Publication Year: 1978\n",
      "-----\n"
     ]
    }
   ],
   "source": [
    "top_k = 5\n",
    "similar_abstracts, similarities = retriever.find_similar_abstracts(query, top_k)\n",
    "\n",
    "for i, (abstract, similarity) in enumerate(zip(similar_abstracts, similarities)):\n",
    "    print(f\"Rank {i + 1}, Similarity: {similarity}\")\n",
    "    print(f\"PMID: {abstract[0]}\")\n",
    "    print(f\"Title: {abstract[1]}\")\n",
    "    print(f\"Authors: {abstract[2]}\")\n",
    "    print(f\"Abstract: {abstract[3]}\")\n",
    "    print(f\"Publication Year: {abstract[4]}\")\n",
    "    print(\"-----\")"
   ]
  },
  {
   "cell_type": "code",
   "execution_count": null,
   "metadata": {},
   "outputs": [],
   "source": []
  }
 ],
 "metadata": {
  "kernelspec": {
   "display_name": "base",
   "language": "python",
   "name": "python3"
  },
  "language_info": {
   "codemirror_mode": {
    "name": "ipython",
    "version": 3
   },
   "file_extension": ".py",
   "mimetype": "text/x-python",
   "name": "python",
   "nbconvert_exporter": "python",
   "pygments_lexer": "ipython3",
   "version": "3.11.9"
  }
 },
 "nbformat": 4,
 "nbformat_minor": 2
}
