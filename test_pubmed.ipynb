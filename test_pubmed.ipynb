{
 "cells": [
  {
   "cell_type": "code",
   "execution_count": 1,
   "metadata": {},
   "outputs": [],
   "source": [
    "from abstract_retriever import AbstractRetriever"
   ]
  },
  {
   "cell_type": "code",
   "execution_count": 2,
   "metadata": {},
   "outputs": [],
   "source": [
    "db_file = \"/teamspace/studios/this_studio/data/pubmed_abstracts_2024.db\"\n",
    "h5_file = \"/teamspace/studios/this_studio/data/pubmed_embeddings.h5\""
   ]
  },
  {
   "cell_type": "code",
   "execution_count": 3,
   "metadata": {},
   "outputs": [],
   "source": [
    "retriever = AbstractRetriever(h5_file, db_file, chunk_size=50_000, use_cuda=True)"
   ]
  },
  {
   "cell_type": "code",
   "execution_count": null,
   "metadata": {},
   "outputs": [],
   "source": [
    "# Example query embedding (replace with an actual embedding)\n",
    "# query = input(\"Enter your query: \")\n",
    "query = \"What is the role of GLP-1 and GLP-1 agonists in losing excess weight?\"\n",
    "query_embedding = retriever.embed_query(query)"
   ]
  },
  {
   "cell_type": "code",
   "execution_count": null,
   "metadata": {},
   "outputs": [],
   "source": [
    "# import cProfile\n",
    "# cProfile.run('retriever.search(query, 5)', sort='cumtime')"
   ]
  },
  {
   "cell_type": "code",
   "execution_count": null,
   "metadata": {},
   "outputs": [
    {
     "name": "stderr",
     "output_type": "stream",
     "text": [
      "  8%|▊         | 6/74 [00:23<03:38,  3.21s/it]"
     ]
    }
   ],
   "source": [
    "top_k = 5\n",
    "pmids, distances, documents = retriever.search(query, top_k)"
   ]
  },
  {
   "cell_type": "code",
   "execution_count": 6,
   "metadata": {},
   "outputs": [
    {
     "name": "stdout",
     "output_type": "stream",
     "text": [
      "Rank 1, Similarity: 0.6665492057800293\n",
      "PMID: 27110485\n",
      "Title: Obesogenic memory can confer long-term increases in adipose tissue but not liver inflammation and insulin resistance after weight loss.\n",
      "Authors: J Schmitz, N Evers, M Awazawa, H T Nicholls, H S Brönneke, A Dietrich, J Mauer, M Blüher, J C Brüning\n",
      "Abstract: Obesity represents a major risk factor for the development of type 2 diabetes mellitus, atherosclerosis and certain cancer entities. Treatment of obesity is hindered by the long-term maintenance of initially reduced body weight, and it remains unclear whether all pathologies associated with obesity are fully reversible even upon successfully maintained weight loss.\n",
      "Publication Year: 2016\n",
      "-----\n",
      "Rank 2, Similarity: 0.6509458422660828\n",
      "PMID: 9041378\n",
      "Title: Post-prandial metabolism of triglyceride-rich lipoproteins in non-insulin-dependent diabetic patients before and after bezafibrate treatment.\n",
      "Authors: N Attia, V Durlach, D Roche, J L Paul, T Soni, A Zahouani, F Landron, F Labrousse, M Leutenegger, A Girard-Globa\n",
      "Abstract: Retarded post-prandial (pp) lipid clearance is potentially a major component of the increased cardiovascular risk incurred by hypertriglyceridaemic non-insulin-dependent diabetic mellitus (NIDDM) patients. The effect of bezafibrate (Bz, 400 mg per day for 5 weeks on chylomicron (CM) and remnant clearance after loads of 100 g of fat and vitamin A was therefore explored in 10 male patients (glycaemia 11.9 +/- 3.3 TG 4.5 +/- 2.4 mmol L(-1)). In all subjects CM-TG and retinyl palmitate (RP) were reduced by 50%, but 8-h non-CM (remnant) RP decreased only in initially mildly hypertriglyceridaemic subjects (-35%, P < 0.05), while in three patients with very elevated initial TG (epsilon3/3, epsilon3/2 and epsilon2/2 genotypes) 8-h remnant RP increased by 100%. The decrease in pp CM-TG correlated with that of fasting Sf 20-400 (r = 0.686, P = 0.026), suggesting that improved lipolysis was a major determinant of hypolipidaemic effect. Apo CIII synthesis is known to be depressed by Bz: concentrations were lower under Bz (P < 0.05). A positive correlation (r = 0.880, P < 0.001) with fasting TG before treatment and its disappearance after treatment suggested an involvement of high concentrations with hypertriglyceridaemia. Post-prandial non-esterified fatty acids were decreased by 35 in correlation with a significant (-19%, P < 0.05) improvement in fasting glycaemia (r = 0.801, P < 0.005). These results suggest that Bz acts both on lipolysis and on removal of CM remnants, but that removal can become saturated when lipolysis is massively improved.\n",
      "Publication Year: 1997\n",
      "-----\n",
      "Rank 3, Similarity: 0.6479052305221558\n",
      "PMID: 27110484\n",
      "Title: High density lipoprotein and metabolic disease: Potential benefits of restoring its functional properties.\n",
      "Authors: Teja Klancic, Lavinia Woodward, Susanna M Hofmann, Edward A Fisher\n",
      "Abstract: High density lipoproteins (HDLs) are thought to be atheroprotective and to reduce the risk of cardiovascular disease (CVD). Besides their antioxidant, antithrombotic, anti-inflammatory, anti-apoptotic properties in the vasculature, HDLs also improve glucose metabolism in skeletal muscle.\n",
      "Publication Year: 2016\n",
      "-----\n",
      "Rank 4, Similarity: 0.6475070714950562\n",
      "PMID: 27110486\n",
      "Title: Thioesterase superfamily member 1 suppresses cold thermogenesis by limiting the oxidation of lipid droplet-derived fatty acids in brown adipose tissue.\n",
      "Authors: Kosuke Okada, Katherine B LeClair, Yongzhao Zhang, Yingxia Li, Cafer Ozdemir, Tibor I Krisko, Susan J Hagen, Rebecca A Betensky, Alexander S Banks, David E Cohen\n",
      "Abstract: Non-shivering thermogenesis in brown adipose tissue (BAT) plays a central role in energy homeostasis. Thioesterase superfamily member 1 (Them1), a BAT-enriched long chain fatty acyl-CoA thioesterase, is upregulated by cold and downregulated by warm ambient temperatures. Them1 (-/-) mice exhibit increased energy expenditure and resistance to diet-induced obesity and diabetes, but the mechanistic contribution of Them1 to the regulation of cold thermogenesis remains unknown.\n",
      "Publication Year: 2016\n",
      "-----\n",
      "Rank 5, Similarity: 0.6334739327430725\n",
      "PMID: 26077492\n",
      "Title: Design, synthesis and evaluation of MCH receptor 1 antagonists--Part II: Optimization of pyridazines toward reduced phospholipidosis and hERG inhibition.\n",
      "Authors: Gerald J Roth, Armin Heckel, Jörg T Kley, Thorsten Lehmann, Stephan G Müller, Thorsten Oost, Klaus Rudolf, Kirsten Arndt, Ralph Budzinski, Martin Lenter, Ralf R H Lotz, Marcus Schindler, Leo Thomas, Dirk Stenkamp\n",
      "Abstract: Despite recent success there remains a high therapeutic need for the development of drugs targeting diseases associated with the metabolic syndrome. As part of our search for safe and effective MCH-R1 antagonists for the treatment of obesity, a series of 3,6-disubstituted pyridazines was evaluated. During optimization several issues of the initial lead structures had to be resolved, such as selectivity over related GPCRs, inhibition of the hERG channel as well as the potential to induce phospholipidosis. Utilizing property-based design, we could demonstrate that all parameters can significantly be improved by consequently increasing the polarity of the compounds. By this strategy, we succeeded in identifying potent and orally available MCH-R1 antagonists with good selectivity over M1 and 5-HT2A and an improved safety profile with respect to hERG inhibition and phospholipidosis. \n",
      "Publication Year: 2015\n",
      "-----\n"
     ]
    }
   ],
   "source": [
    "# sort documents according to distances (descending)\n",
    "distances, documents = zip(*sorted(zip(distances, documents), key=lambda x: x[0], reverse=True))\n",
    "\n",
    "for i, (abstract, similarity) in enumerate(zip(documents, distances)):\n",
    "    print(f\"Rank {i + 1}, Similarity: {similarity}\")\n",
    "    print(f\"PMID: {abstract['pmid']}\")\n",
    "    print(f\"Title: {abstract['title']}\")\n",
    "    print(f\"Authors: {abstract['authors']}\")\n",
    "    print(f\"Abstract: {abstract['abstract']}\")\n",
    "    print(f\"Publication Year: {abstract['publication_year']}\")\n",
    "    print(\"-----\")"
   ]
  },
  {
   "cell_type": "code",
   "execution_count": null,
   "metadata": {},
   "outputs": [],
   "source": []
  }
 ],
 "metadata": {
  "kernelspec": {
   "display_name": "base",
   "language": "python",
   "name": "python3"
  },
  "language_info": {
   "codemirror_mode": {
    "name": "ipython",
    "version": 3
   },
   "file_extension": ".py",
   "mimetype": "text/x-python",
   "name": "python",
   "nbconvert_exporter": "python",
   "pygments_lexer": "ipython3",
   "version": "3.11.9"
  }
 },
 "nbformat": 4,
 "nbformat_minor": 2
}
