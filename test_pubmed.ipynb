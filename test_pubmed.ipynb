{
 "cells": [
  {
   "cell_type": "code",
   "execution_count": 1,
   "metadata": {},
   "outputs": [],
   "source": [
    "from abstract_retriever import AbstractRetriever"
   ]
  },
  {
   "cell_type": "code",
   "execution_count": 2,
   "metadata": {},
   "outputs": [],
   "source": [
    "db_file = \"/teamspace/studios/this_studio/data/pubmed_abstracts_2024.db\"\n",
    "h5_file = \"/teamspace/studios/this_studio/data/pubmed_embeddings.h5\""
   ]
  },
  {
   "cell_type": "code",
   "execution_count": 3,
   "metadata": {},
   "outputs": [
    {
     "name": "stderr",
     "output_type": "stream",
     "text": [
      "<All keys matched successfully>\n"
     ]
    }
   ],
   "source": [
    "retriever = AbstractRetriever(h5_file, db_file, chunk_size=2500, use_cuda=True)"
   ]
  },
  {
   "cell_type": "code",
   "execution_count": 4,
   "metadata": {},
   "outputs": [],
   "source": [
    "# Example query embedding (replace with an actual embedding)\n",
    "# query = input(\"Enter your query: \")\n",
    "query = \"What is the role of GLP-1 and GLP-1 agonists in losing excess weight?\"\n",
    "query_embedding = retriever.embed_query(query)"
   ]
  },
  {
   "cell_type": "code",
   "execution_count": 5,
   "metadata": {},
   "outputs": [],
   "source": [
    "# import cProfile\n",
    "# cProfile.run('retriever.search(query, 5)', sort='cumtime')"
   ]
  },
  {
   "cell_type": "code",
   "execution_count": 6,
   "metadata": {},
   "outputs": [
    {
     "name": "stderr",
     "output_type": "stream",
     "text": [
      "  0%|          | 0/1 [00:00<?, ?it/s]"
     ]
    },
    {
     "name": "stderr",
     "output_type": "stream",
     "text": [
      "100%|██████████| 1/1 [00:00<00:00,  7.12it/s]\n"
     ]
    }
   ],
   "source": [
    "top_k = 5\n",
    "pmids, distances, documents = retriever.search(query, top_k)"
   ]
  },
  {
   "cell_type": "code",
   "execution_count": 7,
   "metadata": {},
   "outputs": [
    {
     "name": "stdout",
     "output_type": "stream",
     "text": [
      "Rank 1, Similarity: 0.670387864112854\n",
      "PMID: 31482\n",
      "Title: (exo, exo)-2-Aryltropane-3-carboxylic esters, hypoglycemic agents with accompanying analgesic activity.\n",
      "Authors: R L Clarke, M L Heckeler, A J Gambino, S J Daum, H R Harding, A K Pierson, D G Teiger, J Pearl, L D Shargel, T J Goehl\n",
      "Abstract: (exo, exo)-2-Aryltropane-3-carboxylic esters of types 6, 7, and 10 lower circulating blood glucose levels by 60--80%. This activity is accompanied by an analgesic activity roughly equal to that of codeine. Both of these activities reside in the 1R enantiomer and extensive structure-activity studies failed to separate them. The specific opioid antagonist nalorphine blocks the analgesic activity but does not diminish the hypoglycemic action. Conformational integrity afforded by the ethylene bridge is neccessary for the observed activities.\n",
      "Publication Year: 1978\n",
      "-----\n",
      "Rank 2, Similarity: 0.6520205140113831\n",
      "PMID: 31336\n",
      "Title: Potentiation of hyperphagia and relief of hypothermia in the genetically obese mouse (genotype, ob/ob) by alpha-methyl tyrosine.\n",
      "Authors: R A Batt, C A Wilson, D L Topping\n",
      "Abstract: DL-alpha-methyl-p-tyrosine methyl ester hydrochloride affected the hyperphagia and hypothermia characteristic of the genetically obese mouse (genotype, ob/ob) throughout an experimental period of 5 days. Intraperitoneal injections of 100 mg/kg body weight, daily, resulted in a significant increase in the average daily food consumption by 60 per cent, already elevated 35 per cent above that of lean litter-mates. The drug, administered at the same dose, caused a similar percentage elevation of food intake in the lean litter-mates. Rectal temperatures of obese mice were raised significantly throughout the 5-day period by an average of 0.95 degrees C, following administration of the drug. There was a significant rise of 0.75 degrees C in the rectal temperature of lean mice on 2 of the 5 days in the period. Body weight remained unchanged. Further experiments are necessary to determine the site of action at which DL-alpha-methyl-p-tyrosine brings about these effects at this dose in lean and obese mice.\n",
      "Publication Year: 1978\n",
      "-----\n",
      "Rank 3, Similarity: 0.6424444913864136\n",
      "PMID: 31364\n",
      "Title: Regulation of glycosphingolipid metabolism in mouse neuroblastoma and glioma cell lines. Comparison of glioma (oligodendroglioma-like) with neutroblastoma cell lines.\n",
      "Authors: G Dawson\n",
      "Abstract: None\n",
      "Publication Year: 1979\n",
      "-----\n",
      "Rank 4, Similarity: 0.6325463652610779\n",
      "PMID: 31563\n",
      "Title: Improved nutrient absorption after cimetidine in short-bowel syndrome with gastric hypersecretion.\n",
      "Authors: A Cortot, C R Fleming, J R Malagelada\n",
      "Abstract: None\n",
      "Publication Year: 1979\n",
      "-----\n",
      "Rank 5, Similarity: 0.6313475370407104\n",
      "PMID: 31622\n",
      "Title: Evidence that the gamma-glutamyl cycle functions in vivo using intracellular glutathione: effects of amino acids and selective inhibition of enzymes.\n",
      "Authors: O W Griffith, R J Bridges, A Meister\n",
      "Abstract: The function of the gamma-glutamyl cycle was explored in in vivo studies in which amino acids and specific inhibitors of cycle enzymes (gamma-glutamyl transpeptidase, gamma-glutamyl cyclotransferase, gamma-glutamylcysteine synthetase, and 5-oxoprolinase) were administered to mice. The findings, which show that the gamma-glutamyl cycle functions in vivo, support the conclusion that gamma-glutamyl amino acids formed by gamma-glutamyl transpeptidase from externally supplied amino acids and intracellular glutathione are translocated into the cell and thus indicate that there is a significant physiological connection between the metabolism of glutathione and the transport of amino acids.\n",
      "Publication Year: 1978\n",
      "-----\n"
     ]
    }
   ],
   "source": [
    "# sort documents according to distances (descending)\n",
    "distances, documents = zip(*sorted(zip(distances, documents), key=lambda x: x[0], reverse=True))\n",
    "\n",
    "for i, (abstract, similarity) in enumerate(zip(documents, distances)):\n",
    "    print(f\"Rank {i + 1}, Similarity: {similarity}\")\n",
    "    print(f\"PMID: {abstract['pmid']}\")\n",
    "    print(f\"Title: {abstract['title']}\")\n",
    "    print(f\"Authors: {abstract['authors']}\")\n",
    "    print(f\"Abstract: {abstract['abstract']}\")\n",
    "    print(f\"Publication Year: {abstract['publication_year']}\")\n",
    "    print(\"-----\")"
   ]
  },
  {
   "cell_type": "code",
   "execution_count": null,
   "metadata": {},
   "outputs": [],
   "source": []
  }
 ],
 "metadata": {
  "kernelspec": {
   "display_name": "base",
   "language": "python",
   "name": "python3"
  },
  "language_info": {
   "codemirror_mode": {
    "name": "ipython",
    "version": 3
   },
   "file_extension": ".py",
   "mimetype": "text/x-python",
   "name": "python",
   "nbconvert_exporter": "python",
   "pygments_lexer": "ipython3",
   "version": "3.11.9"
  }
 },
 "nbformat": 4,
 "nbformat_minor": 2
}
